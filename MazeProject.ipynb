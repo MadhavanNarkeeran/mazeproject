{
 "cells": [
  {
   "cell_type": "code",
   "execution_count": 119,
   "id": "b0afb04d",
   "metadata": {
    "scrolled": false
   },
   "outputs": [
    {
     "name": "stdout",
     "output_type": "stream",
     "text": [
      "   0  1  2  3  4  5  6  7  8  9  10 11 12 13 14\n",
      "0   R  0  W  0  W  0  0  0  0  0  0  W  0  0  W\n",
      "1   W  W  W  W  0  0  0  W  0  0  W  W  W  0  0\n",
      "2   0  W  0  0  W  0  0  0  0  0  0  0  0  W  W\n",
      "3   0  W  W  W  0  W  0  W  0  0  W  0  0  0  0\n",
      "4   0  0  0  0  0  0  0  W  W  0  0  0  0  W  W\n",
      "5   0  W  W  W  W  W  W  W  W  0  0  W  0  0  0\n",
      "6   W  0  0  W  W  0  0  W  W  0  0  0  0  0  W\n",
      "7   W  0  W  0  W  0  0  W  0  W  0  W  W  0  0\n",
      "8   W  0  0  0  0  0  W  0  0  W  W  0  0  0  W\n",
      "9   W  W  W  0  W  0  0  0  0  W  0  0  0  W  0\n",
      "10  0  0  W  0  0  0  0  0  0  W  0  0  0  0  0\n",
      "11  0  0  0  0  W  0  W  W  W  0  0  0  0  0  W\n",
      "12  0  W  0  0  0  W  0  W  0  W  0  0  0  0  W\n",
      "13  W  0  0  0  0  W  W  0  0  0  W  W  W  0  0\n",
      "14  W  W  0  0  0  W  0  0  0  0  W  0  0  W  0\n"
     ]
    }
   ],
   "source": [
    "import pandas as p\n",
    "import random\n",
    "class Robot:\n",
    "    x_velocity = 1\n",
    "    y_velocity = 1\n",
    "    x_position = 0\n",
    "    y_position = 0\n",
    "\n",
    "robot = Robot()   \n",
    "numRows = 15\n",
    "numCols = 15\n",
    "numWalls = 100\n",
    "wallCoordinates = []\n",
    "\n",
    "mazeArray = [[0 for i in range(numCols)] for j in range(numRows)]\n",
    "for i in range(numWalls):\n",
    "    randomRow = random.randint(0, numRows-1)\n",
    "    randomCol = random.randint(0, numCols-1)\n",
    "    wallCoordinates.append([randomRow, randomCol])\n",
    "    mazeArray[randomRow][randomCol] = 'W'\n",
    "\n",
    "success = 0\n",
    "for i in range(numCols):\n",
    "    for j in range(numRows):\n",
    "        if(mazeArray[i][j]==0):\n",
    "            success = 1\n",
    "            mazeArray[i][j] = 'R'\n",
    "            robot.x_position = i\n",
    "            robot.y_position = j\n",
    "            break\n",
    "    if success: \n",
    "        break\n",
    "df = p.DataFrame(mazeArray)\n",
    "print(df)"
   ]
  },
  {
   "cell_type": "code",
   "execution_count": 117,
   "id": "4e1257fc",
   "metadata": {},
   "outputs": [
    {
     "name": "stdout",
     "output_type": "stream",
     "text": [
      " \n",
      "The wall coordinates are: \n",
      " \n",
      "[7, 10] [8, 13] [8, 3] [9, 8] [12, 11] [5, 3] [12, 5] [1, 5] [11, 10] [2, 2] \n",
      " \n",
      "[8, 9] [5, 7] [1, 4] [5, 7] [11, 12] [13, 1] [4, 0] [13, 8] [8, 10] [7, 0] \n",
      " \n",
      "[0, 7] [12, 5] [2, 14] [4, 4] [7, 5] [5, 6] [3, 9] [5, 8] [9, 5] [12, 11] \n",
      " \n",
      "[4, 8] [8, 14] [0, 11] [0, 2] [2, 11] [13, 12] [12, 2] [12, 6] [4, 0] [13, 6] \n",
      " \n",
      "[1, 3] [9, 7] [3, 9] [1, 1] [1, 8] [7, 14] [2, 8] [14, 12] [12, 9] [4, 13] \n",
      " \n",
      "[1, 3] [12, 0] [10, 6] [6, 2] [7, 11] [2, 4] [1, 3] [9, 7] [12, 6] [13, 0] \n",
      " \n",
      "[8, 11] [10, 5] [7, 0] [7, 7] [9, 1] [8, 7] [13, 14] [1, 9] [9, 9] [1, 0] \n",
      " \n",
      "[8, 10] [3, 6] [12, 14] [9, 9] [7, 14] [0, 11] [3, 14] [1, 2] [7, 4] [1, 14] \n",
      " \n",
      "[11, 3] [13, 9] [10, 2] [11, 11] [14, 12] [1, 9] [0, 2] [7, 1] [0, 2] [8, 5] \n",
      " \n",
      "[13, 4] [4, 11] [13, 4] [14, 10] [0, 5] [5, 10] [14, 10] [12, 12] [4, 14] [5, 7] \n",
      " \n"
     ]
    }
   ],
   "source": [
    "\n",
    "print(\" \")\n",
    "print(\"The wall coordinates are: \")\n",
    "print(\" \")\n",
    "for i in range(0, len(wallCoordinates)):\n",
    "    print(wallCoordinates[i], end=' ')\n",
    "    if( i%10 == 9):\n",
    "        print(\"\\n \")\n",
    "    "
   ]
  },
  {
   "cell_type": "code",
   "execution_count": 123,
   "id": "e5c75724",
   "metadata": {},
   "outputs": [
    {
     "name": "stdout",
     "output_type": "stream",
     "text": [
      " \n",
      "Robot attributes: \n",
      " \n",
      "x velocity =  1\n",
      "y velocity =  1\n",
      "x position =  0\n",
      "y position =  0\n"
     ]
    }
   ],
   "source": [
    "print(\" \")\n",
    "print(\"Robot attributes: \")\n",
    "print(\" \")\n",
    "\n",
    "print(\"x velocity = \", robot.x_velocity)\n",
    "print(\"y velocity = \", robot.y_velocity)\n",
    "print(\"x position = \", robot.x_position)\n",
    "print(\"y position = \", robot.y_position)"
   ]
  },
  {
   "cell_type": "code",
   "execution_count": null,
   "id": "4c3330f0",
   "metadata": {},
   "outputs": [],
   "source": []
  }
 ],
 "metadata": {
  "kernelspec": {
   "display_name": "Python 3",
   "language": "python",
   "name": "python3"
  },
  "language_info": {
   "codemirror_mode": {
    "name": "ipython",
    "version": 3
   },
   "file_extension": ".py",
   "mimetype": "text/x-python",
   "name": "python",
   "nbconvert_exporter": "python",
   "pygments_lexer": "ipython3",
   "version": "3.9.5"
  }
 },
 "nbformat": 4,
 "nbformat_minor": 5
}
